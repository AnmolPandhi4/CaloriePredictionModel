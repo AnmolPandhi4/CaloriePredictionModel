{
 "cells": [
  {
   "cell_type": "code",
   "execution_count": 4,
   "metadata": {},
   "outputs": [],
   "source": [
    "import tkinter as tk\n",
    "from tkinter import ttk\n",
    "from tkinter import messagebox\n",
    "\n",
    "import joblib"
   ]
  },
  {
   "cell_type": "code",
   "execution_count": 5,
   "metadata": {},
   "outputs": [],
   "source": [
    "model = joblib.load(\"C:\\\\Users\\\\amrji\\\\Ai Ml\\\\Projects\\\\Calories_burnt.pkl\")"
   ]
  },
  {
   "cell_type": "code",
   "execution_count": 11,
   "metadata": {},
   "outputs": [
    {
     "name": "stderr",
     "output_type": "stream",
     "text": [
      "C:\\Users\\amrji\\AppData\\Roaming\\Python\\Python312\\site-packages\\sklearn\\base.py:493: UserWarning: X does not have valid feature names, but KNeighborsRegressor was fitted with feature names\n",
      "  warnings.warn(\n",
      "C:\\Users\\amrji\\AppData\\Local\\Temp\\ipykernel_20928\\2969732838.py:37: UserWarning: Glyph 129397 (\\N{OVERHEATED FACE}) missing from current font.\n",
      "  fig_canvas.draw()\n",
      "c:\\Program Files\\Python312\\Lib\\tkinter\\__init__.py:861: UserWarning: Glyph 129397 (\\N{OVERHEATED FACE}) missing from current font.\n",
      "  func(*args)\n"
     ]
    },
    {
     "ename": "KeyboardInterrupt",
     "evalue": "",
     "output_type": "error",
     "traceback": [
      "\u001b[1;31m---------------------------------------------------------------------------\u001b[0m",
      "\u001b[1;31mKeyboardInterrupt\u001b[0m                         Traceback (most recent call last)",
      "Cell \u001b[1;32mIn[11], line 101\u001b[0m\n\u001b[0;32m     98\u001b[0m bodyTemp_label\u001b[38;5;241m.\u001b[39mgrid(row\u001b[38;5;241m=\u001b[39m\u001b[38;5;241m1\u001b[39m, columnspan\u001b[38;5;241m=\u001b[39m\u001b[38;5;241m2\u001b[39m, padx\u001b[38;5;241m=\u001b[39m\u001b[38;5;241m5\u001b[39m, pady\u001b[38;5;241m=\u001b[39m\u001b[38;5;241m5\u001b[39m)\n\u001b[0;32m     99\u001b[0m CalorieBurnt_label\u001b[38;5;241m.\u001b[39mgrid(row\u001b[38;5;241m=\u001b[39m\u001b[38;5;241m2\u001b[39m, columnspan\u001b[38;5;241m=\u001b[39m\u001b[38;5;241m2\u001b[39m, padx\u001b[38;5;241m=\u001b[39m\u001b[38;5;241m5\u001b[39m, pady\u001b[38;5;241m=\u001b[39m\u001b[38;5;241m5\u001b[39m)\n\u001b[1;32m--> 101\u001b[0m \u001b[43mroot\u001b[49m\u001b[38;5;241;43m.\u001b[39;49m\u001b[43mmainloop\u001b[49m\u001b[43m(\u001b[49m\u001b[43m)\u001b[49m\n",
      "File \u001b[1;32mc:\\Program Files\\Python312\\Lib\\tkinter\\__init__.py:1504\u001b[0m, in \u001b[0;36mMisc.mainloop\u001b[1;34m(self, n)\u001b[0m\n\u001b[0;32m   1502\u001b[0m \u001b[38;5;28;01mdef\u001b[39;00m \u001b[38;5;21mmainloop\u001b[39m(\u001b[38;5;28mself\u001b[39m, n\u001b[38;5;241m=\u001b[39m\u001b[38;5;241m0\u001b[39m):\n\u001b[0;32m   1503\u001b[0m \u001b[38;5;250m    \u001b[39m\u001b[38;5;124;03m\"\"\"Call the mainloop of Tk.\"\"\"\u001b[39;00m\n\u001b[1;32m-> 1504\u001b[0m     \u001b[38;5;28;43mself\u001b[39;49m\u001b[38;5;241;43m.\u001b[39;49m\u001b[43mtk\u001b[49m\u001b[38;5;241;43m.\u001b[39;49m\u001b[43mmainloop\u001b[49m\u001b[43m(\u001b[49m\u001b[43mn\u001b[49m\u001b[43m)\u001b[49m\n",
      "\u001b[1;31mKeyboardInterrupt\u001b[0m: "
     ]
    },
    {
     "name": "stderr",
     "output_type": "stream",
     "text": [
      "C:\\Users\\amrji\\AppData\\Roaming\\Python\\Python312\\site-packages\\IPython\\core\\pylabtools.py:170: UserWarning: Glyph 129397 (\\N{OVERHEATED FACE}) missing from current font.\n",
      "  fig.canvas.print_figure(bytes_io, **kw)\n"
     ]
    },
    {
     "data": {
      "image/png": "[encoded data removed]",
      "text/plain": [
       "<Figure size 600x400 with 1 Axes>"
      ]
     },
     "metadata": {},
     "output_type": "display_data"
    }
   ],
   "source": [
    "import matplotlib.pyplot as plt\n",
    "from matplotlib.backends.backend_tkagg import FigureCanvasTkAgg\n",
    "\n",
    "def predict_calories(gender, age, height, weight, duration):\n",
    "\n",
    "    result = model.predict([[gender, age, height, weight, duration]])\n",
    "    heart_rate = result[0][0]\n",
    "    body_temp = result[0][1]\n",
    "    calories_burnt = result[0][2]\n",
    "    \n",
    "    return heart_rate, body_temp, calories_burnt\n",
    "\n",
    "def calorie_calculator():\n",
    "    gender = int(gender_entry.get())\n",
    "    age = int(age_entry.get())\n",
    "    height = int(height_entry.get())\n",
    "    weight = int(weight_entry.get())\n",
    "    duration = int(duration_entry.get())\n",
    "    \n",
    "    if gender in [0, 1] and age in range(18, 100) and height in range(100, 200) and weight in range(25, 100) and duration in range(1, 150):\n",
    "        heart_rate, body_temp, calories_burnt = predict_calories(gender, age, height, weight, duration)\n",
    "        \n",
    "        heartRate_label.config(text='Heart Rate: {:.2f}'.format(heart_rate))\n",
    "        bodyTemp_label.config(text='Body Temp: {:.2f}'.format(body_temp))\n",
    "        CalorieBurnt_label.config(text='Calories Burnt: {:.2f}'.format(calories_burnt))\n",
    "\n",
    "        # bar graph\n",
    "        x = ['Heart Rate', 'Body Temp', 'Calories Burnt']\n",
    "        y = [heart_rate, body_temp, calories_burnt]\n",
    "        colors = ['darkgreen', 'purple', 'darkblue']\n",
    "        fig, ax = plt.subplots(figsize=(6, 4))\n",
    "        ax.bar(x, y, color=colors)\n",
    "        ax.set_title('Workout Chart')\n",
    "        ax.set_ylabel('Values')\n",
    "\n",
    "        fig_canvas = FigureCanvasTkAgg(fig, master=result_window)\n",
    "        fig_canvas.draw()\n",
    "        fig_canvas.get_tk_widget().pack()\n",
    "        \n",
    "        result_window.deiconify()\n",
    "        root.withdraw()\n",
    "    else:\n",
    "        messagebox.askretrycancel(\"Error\", \"Invalid input! Please enter valid values.\")\n",
    "\n",
    "# Frontend\n",
    "root = tk.Tk()\n",
    "root.title('Calorie Calculator')\n",
    "\n",
    "main_frame = ttk.Frame(root)\n",
    "main_frame.grid(row=0, column=0, padx=10, pady=10)\n",
    "\n",
    "gender_label = ttk.Label(main_frame, text=\"Gender[0-male, 1-female]: \")\n",
    "gender_entry = ttk.Entry(main_frame)\n",
    "\n",
    "age_label1 = ttk.Label(main_frame, text=\"Age: \")\n",
    "age_entry = ttk.Entry(main_frame)\n",
    "\n",
    "height_label2 = ttk.Label(main_frame, text=\"Height(cm): \")\n",
    "height_entry = ttk.Entry(main_frame)\n",
    "\n",
    "weight_label3 = ttk.Label(main_frame, text=\"Weight(kg): \")\n",
    "weight_entry = ttk.Entry(main_frame)\n",
    "\n",
    "duration_label4 = ttk.Label(main_frame, text=\"Duration(min): \")\n",
    "duration_entry = ttk.Entry(main_frame)\n",
    "\n",
    "calorie_btn = ttk.Button(main_frame, text='Calculate', command=calorie_calculator)\n",
    "\n",
    "gender_label.grid(row=0, column=0, padx=5, pady=5)\n",
    "gender_entry.grid(row=0, column=1, padx=5, pady=5)\n",
    "\n",
    "age_label1.grid(row=1, column=0, padx=5, pady=5)\n",
    "age_entry.grid(row=1, column=1, padx=5, pady=5)\n",
    "\n",
    "height_label2.grid(row=2, column=0, padx=5, pady=5)\n",
    "height_entry.grid(row=2, column=1, padx=5, pady=5)\n",
    "\n",
    "weight_label3.grid(row=3, column=0, padx=5, pady=5)\n",
    "weight_entry.grid(row=3, column=1, padx=5, pady=5)\n",
    "\n",
    "duration_label4.grid(row=4, column=0, padx=5, pady=5)\n",
    "duration_entry.grid(row=4, column=1, padx=5, pady=5)\n",
    "\n",
    "calorie_btn.grid(row=5, columnspan=2, padx=5, pady=10)\n",
    "\n",
    "result_window = tk.Toplevel(root)\n",
    "result_window.title('Calorie Calculation Result')\n",
    "result_window.withdraw()\n",
    "\n",
    "result_frame = ttk.Frame(result_window)\n",
    "result_frame.pack(padx=10, pady=10)\n",
    "\n",
    "heartRate_label = ttk.Label(result_frame)\n",
    "bodyTemp_label = ttk.Label(result_frame)\n",
    "CalorieBurnt_label = ttk.Label(result_frame)\n",
    "\n",
    "heartRate_label.grid(row=0, columnspan=2, padx=5, pady=5)\n",
    "bodyTemp_label.grid(row=1, columnspan=2, padx=5, pady=5)\n",
    "CalorieBurnt_label.grid(row=2, columnspan=2, padx=5, pady=5)\n",
    "\n",
    "root.mainloop()\n"
   ]
  }
 ],
 "metadata": {
  "kernelspec": {
   "display_name": "Python 3",
   "language": "python",
   "name": "python3"
  },
  "language_info": {
   "codemirror_mode": {
    "name": "ipython",
    "version": 3
   },
   "file_extension": ".py",
   "mimetype": "text/x-python",
   "name": "python",
   "nbconvert_exporter": "python",
   "pygments_lexer": "ipython3",
   "version": "3.12.3"
  }
 },
 "nbformat": 4,
 "nbformat_minor": 2
}
